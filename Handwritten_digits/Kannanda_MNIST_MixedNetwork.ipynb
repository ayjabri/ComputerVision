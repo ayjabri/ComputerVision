{
  "nbformat": 4,
  "nbformat_minor": 0,
  "metadata": {
    "kernelspec": {
      "name": "python3",
      "display_name": "Python 3"
    },
    "language_info": {
      "pygments_lexer": "ipython3",
      "nbconvert_exporter": "python",
      "version": "3.6.4",
      "file_extension": ".py",
      "codemirror_mode": {
        "name": "ipython",
        "version": 3
      },
      "name": "python",
      "mimetype": "text/x-python"
    },
    "colab": {
      "name": "Kannanda_MNIST.ipynb",
      "provenance": [],
      "include_colab_link": true
    },
    "accelerator": "GPU"
  },
  "cells": [
    {
      "cell_type": "markdown",
      "metadata": {
        "id": "view-in-github",
        "colab_type": "text"
      },
      "source": [
        "<a href=\"https://colab.research.google.com/github/ayjabri/ImageClassification/blob/master/Kannanda_MNIST_MixedNetwork.ipynb\" target=\"_parent\"><img src=\"https://colab.research.google.com/assets/colab-badge.svg\" alt=\"Open In Colab\"/></a>"
      ]
    },
    {
      "cell_type": "markdown",
      "metadata": {
        "id": "Hy2U3JEHb3w2",
        "colab_type": "text"
      },
      "source": [
        "# 1. Reading data\n",
        "\n",
        "Start by importing pandas library and reading test,train and the Dig files"
      ]
    },
    {
      "cell_type": "code",
      "metadata": {
        "_uuid": "d629ff2d2480ee46fbb7e2d37f6b5fab8052498a",
        "_cell_guid": "79c7e3d0-c299-4dcb-8224-4455121ee9b0",
        "trusted": true,
        "id": "NowQ4c6Sb3w4",
        "colab_type": "code",
        "colab": {}
      },
      "source": [
        "import pandas as pd"
      ],
      "execution_count": 0,
      "outputs": []
    },
    {
      "cell_type": "markdown",
      "metadata": {
        "id": "SVNdhNFvb3w7",
        "colab_type": "text"
      },
      "source": [
        "## 1.1. Import csv files"
      ]
    },
    {
      "cell_type": "code",
      "metadata": {
        "trusted": true,
        "id": "iZCgGvOub3w8",
        "colab_type": "code",
        "colab": {}
      },
      "source": [
        "train_df = pd.read_csv('train.csv')\n",
        "test_df = pd.read_csv('test.csv')\n",
        "dig_MNIST = pd.read_csv('Dig-MNIST.csv')"
      ],
      "execution_count": 0,
      "outputs": []
    },
    {
      "cell_type": "code",
      "metadata": {
        "trusted": true,
        "id": "1W416jfhb3xG",
        "colab_type": "code",
        "outputId": "2b9736cc-c817-40f7-edcf-ebc25fe84d52",
        "colab": {
          "base_uri": "https://localhost:8080/",
          "height": 34
        }
      },
      "source": [
        "len(train_df.label),len(test_df.id)"
      ],
      "execution_count": 3,
      "outputs": [
        {
          "output_type": "execute_result",
          "data": {
            "text/plain": [
              "(60000, 5000)"
            ]
          },
          "metadata": {
            "tags": []
          },
          "execution_count": 3
        }
      ]
    },
    {
      "cell_type": "markdown",
      "metadata": {
        "id": "Fc9kYh6Mb3xK",
        "colab_type": "text"
      },
      "source": [
        "## 1.2. Generate X and Y from training csv file"
      ]
    },
    {
      "cell_type": "code",
      "metadata": {
        "trusted": true,
        "id": "mPonXgI3b3xL",
        "colab_type": "code",
        "colab": {}
      },
      "source": [
        "import torch"
      ],
      "execution_count": 0,
      "outputs": []
    },
    {
      "cell_type": "markdown",
      "metadata": {
        "id": "5BxXXG4Ib3xO",
        "colab_type": "text"
      },
      "source": [
        "For 'x': \n",
        "* Drop the label column and extract the 784 reamining columns\n",
        "* Convert the numpy array to float tensor \n",
        "* Reshape the tensor to (60000,28,28) "
      ]
    },
    {
      "cell_type": "code",
      "metadata": {
        "trusted": true,
        "id": "hlsn2Nl-b3xP",
        "colab_type": "code",
        "colab": {
          "base_uri": "https://localhost:8080/",
          "height": 34
        },
        "outputId": "088e5dab-6ec7-46cd-d697-3055e6977309"
      },
      "source": [
        "x = torch.from_numpy(train_df.drop(labels=['label'],axis=1).values).float()\n",
        "x = x.view(x.size(0),-1,28,28)\n",
        "\n",
        "y = torch.from_numpy(train_df.label.values).long()\n",
        "x.shape,y.shape"
      ],
      "execution_count": 9,
      "outputs": [
        {
          "output_type": "execute_result",
          "data": {
            "text/plain": [
              "(torch.Size([60000, 1, 28, 28]), torch.Size([60000]))"
            ]
          },
          "metadata": {
            "tags": []
          },
          "execution_count": 9
        }
      ]
    },
    {
      "cell_type": "markdown",
      "metadata": {
        "id": "HuQAUVtSb3xS",
        "colab_type": "text"
      },
      "source": [
        "## 1.3. View data"
      ]
    },
    {
      "cell_type": "code",
      "metadata": {
        "trusted": true,
        "id": "VUR_1ez1b3xT",
        "colab_type": "code",
        "colab": {
          "base_uri": "https://localhost:8080/",
          "height": 846
        },
        "outputId": "60f2dc62-ddce-41c4-bffd-86e128931a24"
      },
      "source": [
        "import torchvision as tv\n",
        "import matplotlib.pyplot as plt\n",
        "imgs = tv.utils.make_grid(x[:100],nrow=10,padding=1,pad_value=255)\n",
        "\n",
        "plt.figure(figsize=(14,14))\n",
        "plt.imshow(imgs.permute(1,2,0),cmap='Greys')"
      ],
      "execution_count": 10,
      "outputs": [
        {
          "output_type": "stream",
          "text": [
            "Clipping input data to the valid range for imshow with RGB data ([0..1] for floats or [0..255] for integers).\n"
          ],
          "name": "stderr"
        },
        {
          "output_type": "execute_result",
          "data": {
            "text/plain": [
              "<matplotlib.image.AxesImage at 0x7efbbf51d4a8>"
            ]
          },
          "metadata": {
            "tags": []
          },
          "execution_count": 10
        },
        {
          "output_type": "display_data",
          "data": {
            "image/png": "[encoded data removed]",
            "text/plain": [
              "<Figure size 1008x1008 with 1 Axes>"
            ]
          },
          "metadata": {
            "tags": []
          }
        }
      ]
    },
    {
      "cell_type": "markdown",
      "metadata": {
        "id": "TpMtAcakb3xW",
        "colab_type": "text"
      },
      "source": [
        "# 2. Dataset and DataLoaders"
      ]
    },
    {
      "cell_type": "markdown",
      "metadata": {
        "id": "AhLw9fcYb3xX",
        "colab_type": "text"
      },
      "source": [
        "## 2.1. Write a custom Dataset that allows image transforms"
      ]
    },
    {
      "cell_type": "code",
      "metadata": {
        "trusted": true,
        "id": "QxcXlqRRb3xX",
        "colab_type": "code",
        "colab": {}
      },
      "source": [
        "from torch.utils.data import Dataset,DataLoader"
      ],
      "execution_count": 0,
      "outputs": []
    },
    {
      "cell_type": "code",
      "metadata": {
        "trusted": true,
        "id": "Y1feKvNDb3xa",
        "colab_type": "code",
        "colab": {}
      },
      "source": [
        "class MyDataset(Dataset):\n",
        "    def __init__(self,x,y,transform=None):\n",
        "        self.data = x\n",
        "        self.target = y\n",
        "        self.transform = transform\n",
        "    def __len__(self):\n",
        "        return len(self.target)\n",
        "    def __getitem__(self,idx):\n",
        "        label= self.target[idx]\n",
        "        img = self.data[idx]\n",
        "        if self.transform is not None:\n",
        "            img = self.transform(img)\n",
        "        return img,label"
      ],
      "execution_count": 0,
      "outputs": []
    },
    {
      "cell_type": "markdown",
      "metadata": {
        "id": "s5ILoNyHb3xc",
        "colab_type": "text"
      },
      "source": [
        "## 2.2. Create the dataset and loader"
      ]
    },
    {
      "cell_type": "markdown",
      "metadata": {
        "id": "K0jBC9CSb3xd",
        "colab_type": "text"
      },
      "source": [
        "### 2.2.1. Transforms:"
      ]
    },
    {
      "cell_type": "code",
      "metadata": {
        "trusted": true,
        "id": "2e35najab3xe",
        "colab_type": "code",
        "colab": {}
      },
      "source": [
        "from torchvision import transforms"
      ],
      "execution_count": 0,
      "outputs": []
    },
    {
      "cell_type": "code",
      "metadata": {
        "trusted": true,
        "id": "nj5966hZb3xg",
        "colab_type": "code",
        "colab": {}
      },
      "source": [
        "tfms = transforms.Compose([transforms.Normalize((0.5,),(0.5,))])"
      ],
      "execution_count": 0,
      "outputs": []
    },
    {
      "cell_type": "markdown",
      "metadata": {
        "id": "E9sdWxXJb3xj",
        "colab_type": "text"
      },
      "source": [
        "### 2.2.2. Dataset and DataLoader\n",
        "We create a dataset then we split it 20-80 into training and validating datasets.\n",
        "Then we create two DataLoader: `dl` for training and `dlv` for validation"
      ]
    },
    {
      "cell_type": "code",
      "metadata": {
        "trusted": true,
        "id": "-sllhXgab3xj",
        "colab_type": "code",
        "colab": {}
      },
      "source": [
        "dsm = MyDataset(x,y,transform=tfms)\n",
        "\n",
        "ds,dsv = torch.utils.data.random_split(dsm,[48000,12000]) #split the data\n",
        "dl = DataLoader(ds,batch_size=1000,shuffle=True,pin_memory=True)\n",
        "dlv = DataLoader(dsv, batch_size=1000, shuffle=False,pin_memory=True)"
      ],
      "execution_count": 0,
      "outputs": []
    },
    {
      "cell_type": "markdown",
      "metadata": {
        "id": "MIU8ByEnb3xm",
        "colab_type": "text"
      },
      "source": [
        "### 2.2.3. Small Dataset and DataLoader to overfit the Network"
      ]
    },
    {
      "cell_type": "code",
      "metadata": {
        "trusted": true,
        "id": "gV7QIMjxb3xm",
        "colab_type": "code",
        "colab": {}
      },
      "source": [
        "sampler = torch.utils.data.RandomSampler(ds,num_samples=500,replacement=True)\n",
        "dls = DataLoader(ds,batch_size=100,sampler=sampler)"
      ],
      "execution_count": 0,
      "outputs": []
    },
    {
      "cell_type": "markdown",
      "metadata": {
        "id": "04q2Troob3xo",
        "colab_type": "text"
      },
      "source": [
        "# 3. Mixed Neural Network (1D,2D):"
      ]
    },
    {
      "cell_type": "code",
      "metadata": {
        "trusted": true,
        "id": "RhkmT4gcb3xp",
        "colab_type": "code",
        "colab": {}
      },
      "source": [
        "import torch.nn as nn"
      ],
      "execution_count": 0,
      "outputs": []
    },
    {
      "cell_type": "markdown",
      "metadata": {
        "id": "TMwp9Xbcb3xr",
        "colab_type": "text"
      },
      "source": [
        "## 3.1. The Model"
      ]
    },
    {
      "cell_type": "code",
      "metadata": {
        "trusted": true,
        "id": "zmzuiPYXb3xs",
        "colab_type": "code",
        "colab": {}
      },
      "source": [
        "class Net(nn.Module):\n",
        "    def __init__(self,out,kernel):\n",
        "        super(Net,self).__init__()\n",
        "        self.conv1 = nn.Sequential(nn.Conv1d(28,out,kernel,padding=3,bias=False),\n",
        "                                   nn.BatchNorm1d(out),\n",
        "                                   nn.LeakyReLU(inplace=True),\n",
        "                                   nn.Conv1d(out,out,kernel-2,padding=3,bias=False),\n",
        "                                   nn.BatchNorm1d(out),\n",
        "                                   nn.LeakyReLU(inplace=True),\n",
        "                                   nn.Conv1d(out,out,kernel-2,padding=3,bias=False),\n",
        "                                   nn.BatchNorm1d(out),\n",
        "                                   nn.LeakyReLU(inplace=True)\n",
        "                                   )\n",
        "        self.pool1 = nn.AdaptiveAvgPool1d(1)\n",
        "        self.pool2 = nn.AdaptiveMaxPool1d(1)\n",
        "        self.drop1 = nn.Dropout(p=0.25)\n",
        "        \n",
        "        self.conv2 = nn.Sequential(nn.Conv2d(1,out,kernel,padding=3,bias=False),\n",
        "                                   nn.BatchNorm2d(out),\n",
        "                                   nn.LeakyReLU(inplace=True),\n",
        "                                   nn.Conv2d(out,out,kernel-2,padding=3,bias=False),\n",
        "                                   nn.BatchNorm2d(out),\n",
        "                                   nn.LeakyReLU(inplace=True),\n",
        "                                   nn.Conv2d(out,out,kernel-2,padding=3,bias=False),\n",
        "                                   nn.BatchNorm2d(out),\n",
        "                                   nn.ReLU(inplace=True))\n",
        "        self.pool3 = nn.AdaptiveAvgPool2d(1)\n",
        "        self.pool4 = nn.AdaptiveMaxPool2d(1)\n",
        "        self.drop2 = nn.Dropout(p=0.25)\n",
        "\n",
        "        self.fc = nn.Sequential(nn.Flatten(),\n",
        "                                nn.Linear(out*4,out*2),\n",
        "                                nn.BatchNorm1d(int(out*2)),\n",
        "                                nn.LeakyReLU(inplace=True),\n",
        "                                nn.Dropout(p=0.5),\n",
        "                                nn.Linear(out*2,10))\n",
        "    def forward(self,x):\n",
        "        x1 = x.squeeze(1)\n",
        "        x1 = self.conv1(x1)\n",
        "        p1 = self.pool1(x1)\n",
        "        p2 = self.pool2(x1)\n",
        "        x1 = torch.cat((p1,p2),dim=1)\n",
        "        x1 = self.drop1(x1)\n",
        "        x2 = self.conv2(x)\n",
        "        p3 = self.pool3(x2)\n",
        "        p4 = self.pool4(x2)\n",
        "        x2 = torch.cat((p3,p4),dim=1)\n",
        "        x2 = self.drop2(x2)\n",
        "        x = torch.cat((x1,x2.squeeze(2)),dim=1)\n",
        "        x = self.fc(x)\n",
        "        return x"
      ],
      "execution_count": 0,
      "outputs": []
    },
    {
      "cell_type": "markdown",
      "metadata": {
        "id": "4Yue6Vnvb3xu",
        "colab_type": "text"
      },
      "source": [
        "## 3.2. Runner:\n",
        "\n",
        "The runner is a class that allows me to change output_channels and kernal size to try different combinations"
      ]
    },
    {
      "cell_type": "code",
      "metadata": {
        "trusted": true,
        "id": "Dgt2I5W4b3xu",
        "colab_type": "code",
        "colab": {}
      },
      "source": [
        "class Runner():\n",
        "    def __init__(self,out_channels,kernel_size,data,epochs,lr=1e-3):\n",
        "        self.out_channels = out_channels\n",
        "        self.kernel_size = kernel_size\n",
        "        self.data = data\n",
        "        self.epochs = epochs\n",
        "        self.lr = lr\n",
        "    def run(self):\n",
        "        net = Net(self.out_channels,self.kernel_size).to(device)\n",
        "#         summary = SummaryWriter(comment='filters:{} kernel:{} lr:{}'.format(\n",
        "#             self.out_channels,self.kernel_size,self.lr))\n",
        "#         summary.add_graph(net,img)\n",
        "        l,a = learn(net,self.data,self.epochs,self.lr)\n",
        "        \n",
        "        fig, ax1 = plt.subplots()\n",
        "        color = 'tab:red'\n",
        "        ax1.set_xlabel('lr={} out_channels={} kernel={}'.format(\n",
        "            self.lr,self.out_channels,self.kernel_size))\n",
        "        ax1.set_ylabel('losses', color=color)\n",
        "        ax1.plot(l, color=color)\n",
        "        ax1.tick_params(axis='y', labelcolor=color)\n",
        "        ax2 = ax1.twinx()  # instantiate a second axes that shares the same x-axis\n",
        "        color = 'tab:blue'\n",
        "        ax2.set_ylabel('accuracy', color=color)  # we already handled the x-label with ax1\n",
        "        ax2.plot(a, color=color)\n",
        "        ax2.tick_params(axis='y', labelcolor=color)\n",
        "        fig.tight_layout()\n",
        "        return net"
      ],
      "execution_count": 0,
      "outputs": []
    },
    {
      "cell_type": "markdown",
      "metadata": {
        "id": "7tlQmVn2b3xw",
        "colab_type": "text"
      },
      "source": [
        "## 3.3. Support codes"
      ]
    },
    {
      "cell_type": "markdown",
      "metadata": {
        "id": "ewLDBhXHb3xx",
        "colab_type": "text"
      },
      "source": [
        "### 3.3.1 Get the correct number of predections"
      ]
    },
    {
      "cell_type": "code",
      "metadata": {
        "trusted": true,
        "id": "DMglNVjYb3xx",
        "colab_type": "code",
        "colab": {}
      },
      "source": [
        "def get_correct_num(predicts,labels):\n",
        "    correct = predicts.softmax(dim=1).argmax(dim=1).eq(labels).sum().item()\n",
        "    accuracy = round(correct/len(labels)*100,3)\n",
        "    return correct,accuracy\n",
        "\n",
        "def GPU(img,label):\n",
        "    if torch.cuda.is_available(): img,label = img.to(device),label.to(device)\n",
        "    return img,label"
      ],
      "execution_count": 0,
      "outputs": []
    },
    {
      "cell_type": "markdown",
      "metadata": {
        "id": "_6CPojIlb3xz",
        "colab_type": "text"
      },
      "source": [
        "### 3.3.2 Predict all samples in DataLoader"
      ]
    },
    {
      "cell_type": "code",
      "metadata": {
        "trusted": true,
        "id": "Vy7G6dbWb3x0",
        "colab_type": "code",
        "colab": {}
      },
      "source": [
        "@torch.no_grad()\n",
        "def predict_all(net,dl):\n",
        "    predicts = torch.tensor([])\n",
        "    labels = torch.LongTensor([])\n",
        "    for batch in dl:\n",
        "        img,label = batch\n",
        "        net.cpu()\n",
        "        pred = net(img)\n",
        "        predicts = torch.cat((predicts,pred),dim=0)\n",
        "        labels = torch.cat((labels,label),dim=0)\n",
        "        del img,label # To free memory.very effective when using GPUs\n",
        "    return predicts,labels"
      ],
      "execution_count": 0,
      "outputs": []
    },
    {
      "cell_type": "markdown",
      "metadata": {
        "id": "yd_B8A1lb3x2",
        "colab_type": "text"
      },
      "source": [
        "### 3.3.3 Learn function"
      ]
    },
    {
      "cell_type": "code",
      "metadata": {
        "trusted": true,
        "id": "v0uDkZJAb3x3",
        "colab_type": "code",
        "colab": {}
      },
      "source": [
        "def learn(net,epochs,dl,dv=None,lr=1e-3):\n",
        "    '''\n",
        "    Train the network:\n",
        "        net: CNN\n",
        "        epochs: number of epochs\n",
        "        dl: Training DataLoader\n",
        "        dv: Validation DataLoader\n",
        "        lr: Learning rate (defualt=1e-3)\n",
        "    '''\n",
        "    loss_fn = nn.CrossEntropyLoss()\n",
        "    optimizer = torch.optim.SGD(net.parameters(),lr=lr,momentum=0.9)\n",
        "    for epoch in range(1,epochs+1):\n",
        "        losses = 0\n",
        "        correct = 0\n",
        "        for batch in dl:\n",
        "            optimizer.zero_grad()\n",
        "            img,label = batch\n",
        "            GPU(img,label)\n",
        "            output = net(img)\n",
        "            loss = loss_fn(output,label)\n",
        "            loss.backward()\n",
        "            optimizer.step()\n",
        "            losses += loss.item()\n",
        "            c,_ = get_correct_num(output,label)\n",
        "            correct += c\n",
        "            del img,label\n",
        "        accuracy = round(correct/len(dl.sampler)*100,3)\n",
        "        if dv is not None:\n",
        "            lossv = 0\n",
        "            correctv = 0\n",
        "            for valid in dv:\n",
        "                imv,labelv = valid\n",
        "                GPU(imv,labelv)\n",
        "                outputv = net(imv)\n",
        "                lossv += loss_fn(outputv,labelv)\n",
        "                cv,_=get_correct_num(outputv,labelv)\n",
        "                correctv += cv\n",
        "                del imv,labelv\n",
        "            accuracyv = round(correctv/len(dv.sampler)*100,3)\n",
        "\n",
        "            if epoch <=5:    \n",
        "                print('''{:<3}|Loss: train {:10.12f}, valid {:10.12f} |Accuracy: train {:3}%, valid:{:3}%\n",
        "                      '''.format(epoch,losses,lossv,accuracy,accuracyv))\n",
        "            else:\n",
        "                if epoch%10 ==0:\n",
        "                    print('''{:<3}|Loss: train {:10.12f}, valid {:10.12f} |Accuracy: train {:3}%, valid:{:3}%\n",
        "                      '''.format(epoch,losses,lossv,accuracy,accuracyv))\n",
        "        else:\n",
        "            if epoch <=5:    \n",
        "                print('''{:<3}|Loss: train {:10.12f} | Accuracy: train {:3}%\n",
        "                      '''.format(epoch,losses,accuracy))\n",
        "            else:\n",
        "                if epoch%10 ==0:\n",
        "                    print('''{:<3}|Loss: train {:10.12f} | Accuracy: train {:3}%\n",
        "                      '''.format(epoch,losses,accuracy))\n",
        "    return losses,correct\n"
      ],
      "execution_count": 0,
      "outputs": []
    },
    {
      "cell_type": "markdown",
      "metadata": {
        "id": "pDNdJSjKb3x5",
        "colab_type": "text"
      },
      "source": [
        "# 4. Run the Network"
      ]
    },
    {
      "cell_type": "markdown",
      "metadata": {
        "id": "k4tisUhVb3x6",
        "colab_type": "text"
      },
      "source": [
        "## 4.1. To GPU"
      ]
    },
    {
      "cell_type": "code",
      "metadata": {
        "trusted": true,
        "id": "ExGYU5_Ob3x6",
        "colab_type": "code",
        "colab": {
          "base_uri": "https://localhost:8080/",
          "height": 34
        },
        "outputId": "65e68b53-7144-4c03-cde7-ab74b38be5ba"
      },
      "source": [
        "device = 'cuda:0' if torch.cuda.is_available else 'cpu'\n",
        "device"
      ],
      "execution_count": 23,
      "outputs": [
        {
          "output_type": "execute_result",
          "data": {
            "text/plain": [
              "'cuda:0'"
            ]
          },
          "metadata": {
            "tags": []
          },
          "execution_count": 23
        }
      ]
    },
    {
      "cell_type": "markdown",
      "metadata": {
        "id": "n-UYZpLXb3x8",
        "colab_type": "text"
      },
      "source": [
        "## 4.2. Create and train the network\n",
        "\n",
        "`Runner_1d(out_channels,kernel_size,data,epochs,lr=1e-3)`"
      ]
    },
    {
      "cell_type": "markdown",
      "metadata": {
        "id": "lTzusPTwb3x9",
        "colab_type": "text"
      },
      "source": [
        "### 4.2.1. Use Runner to create and pre-train the network using the small loader `dls`"
      ]
    },
    {
      "cell_type": "code",
      "metadata": {
        "trusted": true,
        "id": "5gQmjp2rb3x_",
        "colab_type": "code",
        "colab": {
          "base_uri": "https://localhost:8080/",
          "height": 324
        },
        "outputId": "174df006-5e3b-41b9-df68-693f737a374c"
      },
      "source": [
        "r = Runner(64,7,dls,100) \n",
        "net = r.run()"
      ],
      "execution_count": 24,
      "outputs": [
        {
          "output_type": "error",
          "ename": "RuntimeError",
          "evalue": "ignored",
          "traceback": [
            "\u001b[0;31m---------------------------------------------------------------------------\u001b[0m",
            "\u001b[0;31mRuntimeError\u001b[0m                              Traceback (most recent call last)",
            "\u001b[0;32m<ipython-input-24-330149d4ae6d>\u001b[0m in \u001b[0;36m<module>\u001b[0;34m()\u001b[0m\n\u001b[1;32m      1\u001b[0m \u001b[0mr\u001b[0m \u001b[0;34m=\u001b[0m \u001b[0mRunner\u001b[0m\u001b[0;34m(\u001b[0m\u001b[0;36m64\u001b[0m\u001b[0;34m,\u001b[0m\u001b[0;36m7\u001b[0m\u001b[0;34m,\u001b[0m\u001b[0mdls\u001b[0m\u001b[0;34m,\u001b[0m\u001b[0;36m100\u001b[0m\u001b[0;34m)\u001b[0m\u001b[0;34m\u001b[0m\u001b[0;34m\u001b[0m\u001b[0m\n\u001b[0;32m----> 2\u001b[0;31m \u001b[0mnet\u001b[0m \u001b[0;34m=\u001b[0m \u001b[0mr\u001b[0m\u001b[0;34m.\u001b[0m\u001b[0mrun\u001b[0m\u001b[0;34m(\u001b[0m\u001b[0;34m)\u001b[0m\u001b[0;34m\u001b[0m\u001b[0;34m\u001b[0m\u001b[0m\n\u001b[0m",
            "\u001b[0;32m<ipython-input-19-ea284263610d>\u001b[0m in \u001b[0;36mrun\u001b[0;34m(self)\u001b[0m\n\u001b[1;32m      7\u001b[0m         \u001b[0mself\u001b[0m\u001b[0;34m.\u001b[0m\u001b[0mlr\u001b[0m \u001b[0;34m=\u001b[0m \u001b[0mlr\u001b[0m\u001b[0;34m\u001b[0m\u001b[0;34m\u001b[0m\u001b[0m\n\u001b[1;32m      8\u001b[0m     \u001b[0;32mdef\u001b[0m \u001b[0mrun\u001b[0m\u001b[0;34m(\u001b[0m\u001b[0mself\u001b[0m\u001b[0;34m)\u001b[0m\u001b[0;34m:\u001b[0m\u001b[0;34m\u001b[0m\u001b[0;34m\u001b[0m\u001b[0m\n\u001b[0;32m----> 9\u001b[0;31m         \u001b[0mnet\u001b[0m \u001b[0;34m=\u001b[0m \u001b[0mNet\u001b[0m\u001b[0;34m(\u001b[0m\u001b[0mself\u001b[0m\u001b[0;34m.\u001b[0m\u001b[0mout_channels\u001b[0m\u001b[0;34m,\u001b[0m\u001b[0mself\u001b[0m\u001b[0;34m.\u001b[0m\u001b[0mkernel_size\u001b[0m\u001b[0;34m)\u001b[0m\u001b[0;34m.\u001b[0m\u001b[0mto\u001b[0m\u001b[0;34m(\u001b[0m\u001b[0mdevice\u001b[0m\u001b[0;34m)\u001b[0m\u001b[0;34m\u001b[0m\u001b[0;34m\u001b[0m\u001b[0m\n\u001b[0m\u001b[1;32m     10\u001b[0m \u001b[0;31m#         summary = SummaryWriter(comment='filters:{} kernel:{} lr:{}'.format(\u001b[0m\u001b[0;34m\u001b[0m\u001b[0;34m\u001b[0m\u001b[0;34m\u001b[0m\u001b[0m\n\u001b[1;32m     11\u001b[0m \u001b[0;31m#             self.out_channels,self.kernel_size,self.lr))\u001b[0m\u001b[0;34m\u001b[0m\u001b[0;34m\u001b[0m\u001b[0;34m\u001b[0m\u001b[0m\n",
            "\u001b[0;32m/usr/local/lib/python3.6/dist-packages/torch/nn/modules/module.py\u001b[0m in \u001b[0;36mto\u001b[0;34m(self, *args, **kwargs)\u001b[0m\n\u001b[1;32m    423\u001b[0m             \u001b[0;32mreturn\u001b[0m \u001b[0mt\u001b[0m\u001b[0;34m.\u001b[0m\u001b[0mto\u001b[0m\u001b[0;34m(\u001b[0m\u001b[0mdevice\u001b[0m\u001b[0;34m,\u001b[0m \u001b[0mdtype\u001b[0m \u001b[0;32mif\u001b[0m \u001b[0mt\u001b[0m\u001b[0;34m.\u001b[0m\u001b[0mis_floating_point\u001b[0m\u001b[0;34m(\u001b[0m\u001b[0;34m)\u001b[0m \u001b[0;32melse\u001b[0m \u001b[0;32mNone\u001b[0m\u001b[0;34m,\u001b[0m \u001b[0mnon_blocking\u001b[0m\u001b[0;34m)\u001b[0m\u001b[0;34m\u001b[0m\u001b[0;34m\u001b[0m\u001b[0m\n\u001b[1;32m    424\u001b[0m \u001b[0;34m\u001b[0m\u001b[0m\n\u001b[0;32m--> 425\u001b[0;31m         \u001b[0;32mreturn\u001b[0m \u001b[0mself\u001b[0m\u001b[0;34m.\u001b[0m\u001b[0m_apply\u001b[0m\u001b[0;34m(\u001b[0m\u001b[0mconvert\u001b[0m\u001b[0;34m)\u001b[0m\u001b[0;34m\u001b[0m\u001b[0;34m\u001b[0m\u001b[0m\n\u001b[0m\u001b[1;32m    426\u001b[0m \u001b[0;34m\u001b[0m\u001b[0m\n\u001b[1;32m    427\u001b[0m     \u001b[0;32mdef\u001b[0m \u001b[0mregister_backward_hook\u001b[0m\u001b[0;34m(\u001b[0m\u001b[0mself\u001b[0m\u001b[0;34m,\u001b[0m \u001b[0mhook\u001b[0m\u001b[0;34m)\u001b[0m\u001b[0;34m:\u001b[0m\u001b[0;34m\u001b[0m\u001b[0;34m\u001b[0m\u001b[0m\n",
            "\u001b[0;32m/usr/local/lib/python3.6/dist-packages/torch/nn/modules/module.py\u001b[0m in \u001b[0;36m_apply\u001b[0;34m(self, fn)\u001b[0m\n\u001b[1;32m    199\u001b[0m     \u001b[0;32mdef\u001b[0m \u001b[0m_apply\u001b[0m\u001b[0;34m(\u001b[0m\u001b[0mself\u001b[0m\u001b[0;34m,\u001b[0m \u001b[0mfn\u001b[0m\u001b[0;34m)\u001b[0m\u001b[0;34m:\u001b[0m\u001b[0;34m\u001b[0m\u001b[0;34m\u001b[0m\u001b[0m\n\u001b[1;32m    200\u001b[0m         \u001b[0;32mfor\u001b[0m \u001b[0mmodule\u001b[0m \u001b[0;32min\u001b[0m \u001b[0mself\u001b[0m\u001b[0;34m.\u001b[0m\u001b[0mchildren\u001b[0m\u001b[0;34m(\u001b[0m\u001b[0;34m)\u001b[0m\u001b[0;34m:\u001b[0m\u001b[0;34m\u001b[0m\u001b[0;34m\u001b[0m\u001b[0m\n\u001b[0;32m--> 201\u001b[0;31m             \u001b[0mmodule\u001b[0m\u001b[0;34m.\u001b[0m\u001b[0m_apply\u001b[0m\u001b[0;34m(\u001b[0m\u001b[0mfn\u001b[0m\u001b[0;34m)\u001b[0m\u001b[0;34m\u001b[0m\u001b[0;34m\u001b[0m\u001b[0m\n\u001b[0m\u001b[1;32m    202\u001b[0m \u001b[0;34m\u001b[0m\u001b[0m\n\u001b[1;32m    203\u001b[0m         \u001b[0;32mdef\u001b[0m \u001b[0mcompute_should_use_set_data\u001b[0m\u001b[0;34m(\u001b[0m\u001b[0mtensor\u001b[0m\u001b[0;34m,\u001b[0m \u001b[0mtensor_applied\u001b[0m\u001b[0;34m)\u001b[0m\u001b[0;34m:\u001b[0m\u001b[0;34m\u001b[0m\u001b[0;34m\u001b[0m\u001b[0m\n",
            "\u001b[0;32m/usr/local/lib/python3.6/dist-packages/torch/nn/modules/module.py\u001b[0m in \u001b[0;36m_apply\u001b[0;34m(self, fn)\u001b[0m\n\u001b[1;32m    199\u001b[0m     \u001b[0;32mdef\u001b[0m \u001b[0m_apply\u001b[0m\u001b[0;34m(\u001b[0m\u001b[0mself\u001b[0m\u001b[0;34m,\u001b[0m \u001b[0mfn\u001b[0m\u001b[0;34m)\u001b[0m\u001b[0;34m:\u001b[0m\u001b[0;34m\u001b[0m\u001b[0;34m\u001b[0m\u001b[0m\n\u001b[1;32m    200\u001b[0m         \u001b[0;32mfor\u001b[0m \u001b[0mmodule\u001b[0m \u001b[0;32min\u001b[0m \u001b[0mself\u001b[0m\u001b[0;34m.\u001b[0m\u001b[0mchildren\u001b[0m\u001b[0;34m(\u001b[0m\u001b[0;34m)\u001b[0m\u001b[0;34m:\u001b[0m\u001b[0;34m\u001b[0m\u001b[0;34m\u001b[0m\u001b[0m\n\u001b[0;32m--> 201\u001b[0;31m             \u001b[0mmodule\u001b[0m\u001b[0;34m.\u001b[0m\u001b[0m_apply\u001b[0m\u001b[0;34m(\u001b[0m\u001b[0mfn\u001b[0m\u001b[0;34m)\u001b[0m\u001b[0;34m\u001b[0m\u001b[0;34m\u001b[0m\u001b[0m\n\u001b[0m\u001b[1;32m    202\u001b[0m \u001b[0;34m\u001b[0m\u001b[0m\n\u001b[1;32m    203\u001b[0m         \u001b[0;32mdef\u001b[0m \u001b[0mcompute_should_use_set_data\u001b[0m\u001b[0;34m(\u001b[0m\u001b[0mtensor\u001b[0m\u001b[0;34m,\u001b[0m \u001b[0mtensor_applied\u001b[0m\u001b[0;34m)\u001b[0m\u001b[0;34m:\u001b[0m\u001b[0;34m\u001b[0m\u001b[0;34m\u001b[0m\u001b[0m\n",
            "\u001b[0;32m/usr/local/lib/python3.6/dist-packages/torch/nn/modules/module.py\u001b[0m in \u001b[0;36m_apply\u001b[0;34m(self, fn)\u001b[0m\n\u001b[1;32m    221\u001b[0m                 \u001b[0;31m# `with torch.no_grad():`\u001b[0m\u001b[0;34m\u001b[0m\u001b[0;34m\u001b[0m\u001b[0;34m\u001b[0m\u001b[0m\n\u001b[1;32m    222\u001b[0m                 \u001b[0;32mwith\u001b[0m \u001b[0mtorch\u001b[0m\u001b[0;34m.\u001b[0m\u001b[0mno_grad\u001b[0m\u001b[0;34m(\u001b[0m\u001b[0;34m)\u001b[0m\u001b[0;34m:\u001b[0m\u001b[0;34m\u001b[0m\u001b[0;34m\u001b[0m\u001b[0m\n\u001b[0;32m--> 223\u001b[0;31m                     \u001b[0mparam_applied\u001b[0m \u001b[0;34m=\u001b[0m \u001b[0mfn\u001b[0m\u001b[0;34m(\u001b[0m\u001b[0mparam\u001b[0m\u001b[0;34m)\u001b[0m\u001b[0;34m\u001b[0m\u001b[0;34m\u001b[0m\u001b[0m\n\u001b[0m\u001b[1;32m    224\u001b[0m                 \u001b[0mshould_use_set_data\u001b[0m \u001b[0;34m=\u001b[0m \u001b[0mcompute_should_use_set_data\u001b[0m\u001b[0;34m(\u001b[0m\u001b[0mparam\u001b[0m\u001b[0;34m,\u001b[0m \u001b[0mparam_applied\u001b[0m\u001b[0;34m)\u001b[0m\u001b[0;34m\u001b[0m\u001b[0;34m\u001b[0m\u001b[0m\n\u001b[1;32m    225\u001b[0m                 \u001b[0;32mif\u001b[0m \u001b[0mshould_use_set_data\u001b[0m\u001b[0;34m:\u001b[0m\u001b[0;34m\u001b[0m\u001b[0;34m\u001b[0m\u001b[0m\n",
            "\u001b[0;32m/usr/local/lib/python3.6/dist-packages/torch/nn/modules/module.py\u001b[0m in \u001b[0;36mconvert\u001b[0;34m(t)\u001b[0m\n\u001b[1;32m    421\u001b[0m \u001b[0;34m\u001b[0m\u001b[0m\n\u001b[1;32m    422\u001b[0m         \u001b[0;32mdef\u001b[0m \u001b[0mconvert\u001b[0m\u001b[0;34m(\u001b[0m\u001b[0mt\u001b[0m\u001b[0;34m)\u001b[0m\u001b[0;34m:\u001b[0m\u001b[0;34m\u001b[0m\u001b[0;34m\u001b[0m\u001b[0m\n\u001b[0;32m--> 423\u001b[0;31m             \u001b[0;32mreturn\u001b[0m \u001b[0mt\u001b[0m\u001b[0;34m.\u001b[0m\u001b[0mto\u001b[0m\u001b[0;34m(\u001b[0m\u001b[0mdevice\u001b[0m\u001b[0;34m,\u001b[0m \u001b[0mdtype\u001b[0m \u001b[0;32mif\u001b[0m \u001b[0mt\u001b[0m\u001b[0;34m.\u001b[0m\u001b[0mis_floating_point\u001b[0m\u001b[0;34m(\u001b[0m\u001b[0;34m)\u001b[0m \u001b[0;32melse\u001b[0m \u001b[0;32mNone\u001b[0m\u001b[0;34m,\u001b[0m \u001b[0mnon_blocking\u001b[0m\u001b[0;34m)\u001b[0m\u001b[0;34m\u001b[0m\u001b[0;34m\u001b[0m\u001b[0m\n\u001b[0m\u001b[1;32m    424\u001b[0m \u001b[0;34m\u001b[0m\u001b[0m\n\u001b[1;32m    425\u001b[0m         \u001b[0;32mreturn\u001b[0m \u001b[0mself\u001b[0m\u001b[0;34m.\u001b[0m\u001b[0m_apply\u001b[0m\u001b[0;34m(\u001b[0m\u001b[0mconvert\u001b[0m\u001b[0;34m)\u001b[0m\u001b[0;34m\u001b[0m\u001b[0;34m\u001b[0m\u001b[0m\n",
            "\u001b[0;32m/usr/local/lib/python3.6/dist-packages/torch/cuda/__init__.py\u001b[0m in \u001b[0;36m_lazy_init\u001b[0;34m()\u001b[0m\n\u001b[1;32m    195\u001b[0m                 \"Cannot re-initialize CUDA in forked subprocess. \" + msg)\n\u001b[1;32m    196\u001b[0m         \u001b[0m_check_driver\u001b[0m\u001b[0;34m(\u001b[0m\u001b[0;34m)\u001b[0m\u001b[0;34m\u001b[0m\u001b[0;34m\u001b[0m\u001b[0m\n\u001b[0;32m--> 197\u001b[0;31m         \u001b[0mtorch\u001b[0m\u001b[0;34m.\u001b[0m\u001b[0m_C\u001b[0m\u001b[0;34m.\u001b[0m\u001b[0m_cuda_init\u001b[0m\u001b[0;34m(\u001b[0m\u001b[0;34m)\u001b[0m\u001b[0;34m\u001b[0m\u001b[0;34m\u001b[0m\u001b[0m\n\u001b[0m\u001b[1;32m    198\u001b[0m         \u001b[0m_cudart\u001b[0m \u001b[0;34m=\u001b[0m \u001b[0m_load_cudart\u001b[0m\u001b[0;34m(\u001b[0m\u001b[0;34m)\u001b[0m\u001b[0;34m\u001b[0m\u001b[0;34m\u001b[0m\u001b[0m\n\u001b[1;32m    199\u001b[0m         \u001b[0m_cudart\u001b[0m\u001b[0;34m.\u001b[0m\u001b[0mcudaGetErrorName\u001b[0m\u001b[0;34m.\u001b[0m\u001b[0mrestype\u001b[0m \u001b[0;34m=\u001b[0m \u001b[0mctypes\u001b[0m\u001b[0;34m.\u001b[0m\u001b[0mc_char_p\u001b[0m\u001b[0;34m\u001b[0m\u001b[0;34m\u001b[0m\u001b[0m\n",
            "\u001b[0;31mRuntimeError\u001b[0m: cuda runtime error (100) : no CUDA-capable device is detected at /pytorch/aten/src/THC/THCGeneral.cpp:50"
          ]
        }
      ]
    },
    {
      "cell_type": "markdown",
      "metadata": {
        "id": "EFEqWRrvb3yB",
        "colab_type": "text"
      },
      "source": [
        "### 4.2.2. Train the Network with training loader `dl`\n",
        "If you want to train the network on the combined train & Dig_MNIST datasets, then go to 7."
      ]
    },
    {
      "cell_type": "code",
      "metadata": {
        "trusted": true,
        "id": "p_PfcfeIb3yB",
        "colab_type": "code",
        "colab": {}
      },
      "source": [
        "# loss,accuracy = learn(net,dl,10)"
      ],
      "execution_count": 0,
      "outputs": []
    },
    {
      "cell_type": "code",
      "metadata": {
        "trusted": true,
        "id": "Fg_rqrl2b3yD",
        "colab_type": "code",
        "colab": {}
      },
      "source": [
        "# l,a = learn(net,dl,15,lr=1e-4)"
      ],
      "execution_count": 0,
      "outputs": []
    },
    {
      "cell_type": "markdown",
      "metadata": {
        "id": "V70m3blUb3yG",
        "colab_type": "text"
      },
      "source": [
        "# 5. Save/Load the Network"
      ]
    },
    {
      "cell_type": "code",
      "metadata": {
        "trusted": true,
        "id": "iOaPW3kYb3yG",
        "colab_type": "code",
        "colab": {}
      },
      "source": [
        "# TO save the network:\n",
        "# torch.save(net.state_dict(),'KannadaMNIST_100_7.pt')"
      ],
      "execution_count": 0,
      "outputs": []
    },
    {
      "cell_type": "code",
      "metadata": {
        "trusted": true,
        "id": "gFSyM2txb3yI",
        "colab_type": "code",
        "colab": {}
      },
      "source": [
        "# To load the network from saved location, uncomment the below\n",
        "net = Net1D(100,7)\n",
        "net.load_state_dict(torch.load('/kaggle/input/parameters/KannadaMNIST_100_7.pt'))"
      ],
      "execution_count": 0,
      "outputs": []
    },
    {
      "cell_type": "code",
      "metadata": {
        "trusted": true,
        "id": "hEAKhLBob3yK",
        "colab_type": "code",
        "colab": {}
      },
      "source": [
        "# l,a = learn(net.to(device),dl,5,lr=1e-5)"
      ],
      "execution_count": 0,
      "outputs": []
    },
    {
      "cell_type": "markdown",
      "metadata": {
        "trusted": true,
        "id": "YKIcbCO1b3yN",
        "colab_type": "text"
      },
      "source": [
        "# 6. Submit the results\n",
        "## 6.1. Predict Test Set\n",
        "### 6.1.1. Extract X_test"
      ]
    },
    {
      "cell_type": "code",
      "metadata": {
        "trusted": true,
        "id": "k88bpWBib3yN",
        "colab_type": "code",
        "colab": {}
      },
      "source": [
        "df_test.head()"
      ],
      "execution_count": 0,
      "outputs": []
    },
    {
      "cell_type": "code",
      "metadata": {
        "_cell_guid": "",
        "_uuid": "",
        "trusted": true,
        "id": "Eg77rzZAb3yQ",
        "colab_type": "code",
        "colab": {}
      },
      "source": [
        "x_test = torch.from_numpy(df_test.drop(labels=['id'],axis=1).values).float()\n",
        "x_test = x_test.view(x_test.size(0),-1,28,28)"
      ],
      "execution_count": 0,
      "outputs": []
    },
    {
      "cell_type": "markdown",
      "metadata": {
        "id": "43vPrhoab3yS",
        "colab_type": "text"
      },
      "source": [
        "### 6.1.1. Create Test Dataset and DataLoader"
      ]
    },
    {
      "cell_type": "code",
      "metadata": {
        "trusted": true,
        "id": "8MWfYvztb3yT",
        "colab_type": "code",
        "colab": {}
      },
      "source": [
        "dlt = DataLoader(x_test,batch_size=100,pin_memory=True)"
      ],
      "execution_count": 0,
      "outputs": []
    },
    {
      "cell_type": "code",
      "metadata": {
        "trusted": true,
        "id": "v8-KD_Q7b3yV",
        "colab_type": "code",
        "colab": {}
      },
      "source": [
        "def pred_submit(net,loader):\n",
        "    with torch.no_grad():\n",
        "        predict = torch.tensor([]).to(device)\n",
        "        for img in loader:\n",
        "            if torch.cuda.is_available(): img=img.to(device)\n",
        "            p=net(img)\n",
        "            predict = torch.cat((predict,p),dim=0)\n",
        "        submit = predict.argmax(dim=1)\n",
        "        return predict"
      ],
      "execution_count": 0,
      "outputs": []
    },
    {
      "cell_type": "code",
      "metadata": {
        "trusted": true,
        "id": "bnGYT0icb3yY",
        "colab_type": "code",
        "colab": {}
      },
      "source": [
        "submit = pred_submit(m,dlt)"
      ],
      "execution_count": 0,
      "outputs": []
    },
    {
      "cell_type": "code",
      "metadata": {
        "trusted": true,
        "id": "Hhf1uy9-b3yc",
        "colab_type": "code",
        "colab": {}
      },
      "source": [
        "samplesubmission = pd.read_csv('/kaggle/input/Kannada-MNIST/sample_submission.csv')\n",
        "samplesubmission['label']=pd.DataFrame(submit.argmax(dim=1).cpu().int())\n",
        "samplesubmission.to_csv(\"CONV1S.csv\", index=False, header=True)\n",
        "# submit_to_csv('samplesubmission.csv',index=False)"
      ],
      "execution_count": 0,
      "outputs": []
    },
    {
      "cell_type": "markdown",
      "metadata": {
        "id": "CCKEOIDwb3yf",
        "colab_type": "text"
      },
      "source": [
        "# 7. Dig MNIST"
      ]
    },
    {
      "cell_type": "code",
      "metadata": {
        "trusted": true,
        "id": "O6MAaSCJb3yg",
        "colab_type": "code",
        "colab": {}
      },
      "source": [
        "xd = torch.from_numpy(dig_MNIST.drop(['label'],axis=1).values).float()\n",
        "xd = xd.view(xd.size(0),-1,28,28);xd.shape\n",
        "\n",
        "yd = torch.from_numpy(dig_MNIST.label.values)"
      ],
      "execution_count": 0,
      "outputs": []
    },
    {
      "cell_type": "code",
      "metadata": {
        "trusted": true,
        "id": "lybFj2Opb3yj",
        "colab_type": "code",
        "colab": {}
      },
      "source": [
        "fig, ax = plt.subplots(1)\n",
        "ax.imshow(xd[7].view(28,28),cmap='Greys')\n",
        "ax.text(10,30,'Number {}'.format(yd[7]), bbox={'facecolor': 'white', 'pad': 10})\n",
        "plt.show()"
      ],
      "execution_count": 0,
      "outputs": []
    },
    {
      "cell_type": "code",
      "metadata": {
        "trusted": true,
        "id": "SS8v4nCQb3ym",
        "colab_type": "code",
        "colab": {}
      },
      "source": [
        "dsd = MyDataset(xd,yd,transform=tfms)"
      ],
      "execution_count": 0,
      "outputs": []
    },
    {
      "cell_type": "code",
      "metadata": {
        "trusted": true,
        "id": "mRV6hr_8b3yp",
        "colab_type": "code",
        "colab": {}
      },
      "source": [
        "ds_all = torch.utils.data.ConcatDataset((ds,dsd))\n",
        "dl_all = DataLoader(ds_all,batch_size=200,shuffle=True,pin_memory=True)"
      ],
      "execution_count": 0,
      "outputs": []
    },
    {
      "cell_type": "code",
      "metadata": {
        "trusted": true,
        "id": "lRBj2AeOb3yr",
        "colab_type": "code",
        "colab": {}
      },
      "source": [
        "loss,accuracy = learn(net.to(device),dl_all,15)"
      ],
      "execution_count": 0,
      "outputs": []
    },
    {
      "cell_type": "code",
      "metadata": {
        "trusted": true,
        "id": "NuWmpVe6b3yt",
        "colab_type": "code",
        "colab": {}
      },
      "source": [
        "loss,accuracy = learn(net.to(device),dl_all,15,lr=1e-4)"
      ],
      "execution_count": 0,
      "outputs": []
    },
    {
      "cell_type": "code",
      "metadata": {
        "trusted": true,
        "id": "8-RtTPEEb3yv",
        "colab_type": "code",
        "colab": {}
      },
      "source": [
        "dig_MNIST.isna().sum()"
      ],
      "execution_count": 0,
      "outputs": []
    },
    {
      "cell_type": "markdown",
      "metadata": {
        "id": "-6gjB8t3b3yx",
        "colab_type": "text"
      },
      "source": [
        "# 8. ResNet"
      ]
    },
    {
      "cell_type": "code",
      "metadata": {
        "trusted": true,
        "id": "yrjXFOffb3yy",
        "colab_type": "code",
        "colab": {}
      },
      "source": [
        "resnet = tv.models.resnet34(pretrained=True)"
      ],
      "execution_count": 0,
      "outputs": []
    },
    {
      "cell_type": "code",
      "metadata": {
        "trusted": true,
        "id": "8feiqAwDb3y0",
        "colab_type": "code",
        "colab": {}
      },
      "source": [
        "class AdaptiveConcatPool2d(nn.Module): #This model concatenate Avg and Max pools in one Tensor \n",
        "    def __init__(self, sz=None):\n",
        "        super().__init__()\n",
        "        sz = sz or (1,1)\n",
        "        self.ap = nn.AdaptiveAvgPool2d(sz)\n",
        "        self.mp = nn.AdaptiveMaxPool2d(sz)\n",
        "    def forward(self, x): return torch.cat([self.mp(x), self.ap(x)], 1)"
      ],
      "execution_count": 0,
      "outputs": []
    },
    {
      "cell_type": "code",
      "metadata": {
        "trusted": true,
        "id": "xFDP7mPpb3y2",
        "colab_type": "code",
        "colab": {}
      },
      "source": [
        "avgpool = nn.Sequential(\n",
        "                        AdaptiveConcatPool2d(1),\n",
        "                        nn.Flatten(),\n",
        "                        nn.BatchNorm1d(1024),\n",
        "                        nn.Dropout(p=0.25),\n",
        "                        nn.Linear(1024,512),\n",
        "                        nn.ReLU(),\n",
        "                        nn.BatchNorm1d(512),\n",
        "                        nn.Dropout(p=0.5))\n",
        "fc = nn.Linear(512,50)"
      ],
      "execution_count": 0,
      "outputs": []
    },
    {
      "cell_type": "markdown",
      "metadata": {
        "id": "CjtOdfVZb3y4",
        "colab_type": "text"
      },
      "source": [
        "# Using Conv1d only"
      ]
    },
    {
      "cell_type": "code",
      "metadata": {
        "trusted": true,
        "id": "vQIPn-Rvb3y7",
        "colab_type": "code",
        "colab": {}
      },
      "source": [
        "m = Net1D().to(device)\n",
        "m.init_weights()"
      ],
      "execution_count": 0,
      "outputs": []
    },
    {
      "cell_type": "code",
      "metadata": {
        "trusted": true,
        "id": "iSayu84rb3y8",
        "colab_type": "code",
        "outputId": "4eb55536-6163-482e-8b26-65283f30c5a1",
        "colab": {}
      },
      "source": [
        "learn(m,50,dls,1e-1);learn(m,10,dl,lr=1e-1);learn(m,10,dl,lr=1e-2);learn(m,10,dl,lr=1e-3)"
      ],
      "execution_count": 0,
      "outputs": [
        {
          "output_type": "stream",
          "text": [
            "1: loss:0.06667916337028146 accuracy:99.6%\n",
            "2: loss:0.060050968546420336 accuracy:99.6%\n",
            "3: loss:0.04079471528530121 accuracy:99.8%\n",
            "4: loss:0.08514180267229676 accuracy:99.6%\n",
            "5: loss:0.10633922112174332 accuracy:99.8%\n",
            "10: loss:0.029716481221839786 accuracy:100.0%\n",
            "20: loss:0.08864672121126205 accuracy:99.6%\n",
            "30: loss:0.06150233279913664 accuracy:99.6%\n",
            "40: loss:0.06071928492747247 accuracy:99.8%\n",
            "50: loss:0.04234936251305044 accuracy:99.6%\n",
            "1: loss:12.19397168874275 accuracy:99.388%\n",
            "2: loss:8.95889827699284 accuracy:99.559%\n",
            "3: loss:6.713286598358536 accuracy:99.692%\n",
            "4: loss:4.511119167389552 accuracy:99.805%\n",
            "5: loss:5.5902711779745005 accuracy:99.751%\n",
            "10: loss:2.131090602470067 accuracy:99.907%\n",
            "1: loss:0.8798348905547755 accuracy:99.969%\n",
            "2: loss:0.46144167015290805 accuracy:99.99%\n",
            "3: loss:0.3602612484492056 accuracy:99.994%\n"
          ],
          "name": "stdout"
        }
      ]
    },
    {
      "cell_type": "code",
      "metadata": {
        "trusted": true,
        "id": "jx4P1ypUb3y-",
        "colab_type": "code",
        "colab": {}
      },
      "source": [
        "torch.save(m.state_dict(),'conv1d_100.pt')"
      ],
      "execution_count": 0,
      "outputs": []
    },
    {
      "cell_type": "code",
      "metadata": {
        "trusted": true,
        "id": "FNoWWV90b3zA",
        "colab_type": "code",
        "colab": {}
      },
      "source": [
        ""
      ],
      "execution_count": 0,
      "outputs": []
    }
  ]
}