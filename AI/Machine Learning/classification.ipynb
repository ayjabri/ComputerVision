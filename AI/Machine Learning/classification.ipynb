{
 "cells": [
  {
   "cell_type": "code",
   "execution_count": 1,
   "metadata": {},
   "outputs": [
    {
     "data": {
      "text/plain": [
       "(torch.Size([17, 2]), torch.Size([17]))"
      ]
     },
     "execution_count": 1,
     "metadata": {},
     "output_type": "execute_result"
    }
   ],
   "source": [
    "import pandas as pd\n",
    "import torch\n",
    "import torch.nn as nn\n",
    "import torch.nn.functional as F\n",
    "import matplotlib.pyplot as plt\n",
    "\n",
    "data = pd.read_csv('./input1.csv',sep=',',header=None,names=['x1','x2','y'])\n",
    "y = torch.from_numpy(data.y.values)\n",
    "x = torch.from_numpy(data.drop(['y'],axis=1).values).float()\n",
    "yc = torch.where(y==-1,torch.zeros(17,dtype=torch.long),y)\n",
    "x.shape,y.shape"
   ]
  },
  {
   "cell_type": "code",
   "execution_count": 2,
   "metadata": {},
   "outputs": [],
   "source": [
    "d1 = data[data.y!=-1]\n",
    "d2 = data[data.y!=1]\n",
    "c1,c2 = d1['x1'].values,d1['x2'].values\n",
    "c3,c4 = d2['x1'].values,d2['x2'].values"
   ]
  },
  {
   "cell_type": "code",
   "execution_count": 3,
   "metadata": {},
   "outputs": [
    {
     "data": {
      "text/plain": [
       "tensor([[ 0.4824],\n",
       "        [-1.8744],\n",
       "        [ 1.2044],\n",
       "        [-1.4054],\n",
       "        [-2.6646],\n",
       "        [ 1.5334],\n",
       "        [-2.6413],\n",
       "        [ 0.4746],\n",
       "        [-1.8511],\n",
       "        [-1.0531],\n",
       "        [-2.6957],\n",
       "        [-3.0187],\n",
       "        [ 1.5334],\n",
       "        [-2.2734],\n",
       "        [-0.8001],\n",
       "        [-1.4754],\n",
       "        [-1.6447]], grad_fn=<AddmmBackward>)"
      ]
     },
     "execution_count": 3,
     "metadata": {},
     "output_type": "execute_result"
    }
   ],
   "source": [
    "class Net(nn.Module):\n",
    "    def __init__(self):\n",
    "        super().__init__()\n",
    "        self.layer1 = nn.Linear(2,1)\n",
    "    def forward(self,x):\n",
    "        x = self.layer1(x)\n",
    "        return x\n",
    "    \n",
    "net = Net()\n",
    "output = net(x);output"
   ]
  },
  {
   "cell_type": "code",
   "execution_count": null,
   "metadata": {},
   "outputs": [],
   "source": [
    "F.soft_margin_loss(output,y.view(-1,1).float())"
   ]
  },
  {
   "cell_type": "code",
   "execution_count": 15,
   "metadata": {},
   "outputs": [
    {
     "name": "stdout",
     "output_type": "stream",
     "text": [
      "0.16808706521987915\n"
     ]
    }
   ],
   "source": [
    "epochs = 10000\n",
    "lr = 0.01\n",
    "loss_fn = nn.SoftMarginLoss()\n",
    "optimizer = torch.optim.SGD(net.parameters(),lr=0.01)\n",
    "weights = []\n",
    "\n",
    "for epoch in range(epochs):\n",
    "    optimizer.zero_grad()\n",
    "    output = net(x)\n",
    "    loss = loss_fn(output,y.view(-1,1).float())\n",
    "    loss.backward()\n",
    "    optimizer.step()\n",
    "    weights.append([net.layer1.weight[0][0].item(),\n",
    "                    net.layer1.weight[0][1].item(),\n",
    "                    net.layer1.bias[0].item()])\n",
    "    if epoch%(epochs/20) ==0: print(loss.item())\n",
    "    output[output>0]=1;output[output<0]=-1\n",
    "    if torch.all(output==y.view(-1,1)):\n",
    "        break"
   ]
  },
  {
   "cell_type": "code",
   "execution_count": 16,
   "metadata": {},
   "outputs": [
    {
     "data": {
      "text/plain": [
       "tensor([[True],\n",
       "        [True],\n",
       "        [True],\n",
       "        [True],\n",
       "        [True],\n",
       "        [True],\n",
       "        [True],\n",
       "        [True],\n",
       "        [True],\n",
       "        [True],\n",
       "        [True],\n",
       "        [True],\n",
       "        [True],\n",
       "        [True],\n",
       "        [True],\n",
       "        [True],\n",
       "        [True]])"
      ]
     },
     "execution_count": 16,
     "metadata": {},
     "output_type": "execute_result"
    }
   ],
   "source": [
    "output[output>0]=1;output[output<0]=-1\n",
    "output==y.view(-1,1)"
   ]
  },
  {
   "cell_type": "code",
   "execution_count": 56,
   "metadata": {},
   "outputs": [
    {
     "data": {
      "text/plain": [
       "([-0.44813644886016846, -0.23840726912021637, 3.671322822570801], list)"
      ]
     },
     "execution_count": 56,
     "metadata": {},
     "output_type": "execute_result"
    }
   ],
   "source": [
    "w =  weights[-1];w,type(w)"
   ]
  },
  {
   "cell_type": "code",
   "execution_count": 44,
   "metadata": {},
   "outputs": [
    {
     "data": {
      "text/plain": [
       "-10.072131490047193"
      ]
     },
     "execution_count": 44,
     "metadata": {},
     "output_type": "execute_result"
    }
   ],
   "source": [
    "w[0]/-w[1] *1 + w[2]/w[0]"
   ]
  },
  {
   "cell_type": "code",
   "execution_count": 45,
   "metadata": {},
   "outputs": [],
   "source": [
    "def y_hat(w,x):\n",
    "    x@w[:2]\n",
    "    return  w2/-w1 * x2 + b/w1"
   ]
  },
  {
   "cell_type": "code",
   "execution_count": 61,
   "metadata": {},
   "outputs": [
    {
     "name": "stderr",
     "output_type": "stream",
     "text": [
      "/Users/aymanjabri/opt/anaconda3/envs/Pytorch/lib/python3.7/site-packages/ipykernel_launcher.py:1: UserWarning: To copy construct from a tensor, it is recommended to use sourceTensor.clone().detach() or sourceTensor.clone().detach().requires_grad_(True), rather than torch.tensor(sourceTensor).\n",
      "  \"\"\"Entry point for launching an IPython kernel.\n"
     ]
    }
   ],
   "source": [
    "w = torch.tensor(w)\n",
    "x1 = torch.cat((x.clone().detach(),torch.ones(17,1)),dim=-1)"
   ]
  },
  {
   "cell_type": "code",
   "execution_count": 70,
   "metadata": {},
   "outputs": [
    {
     "data": {
      "text/plain": [
       "tensor([True, True, True, True, True, True, True, True, True, True, True, True,\n",
       "        True, True, True, True, True])"
      ]
     },
     "execution_count": 70,
     "metadata": {},
     "output_type": "execute_result"
    }
   ],
   "source": [
    "p = x1@w\n",
    "p[p>0]=1;p[p<0]=-1\n",
    "p.eq(y)"
   ]
  },
  {
   "cell_type": "code",
   "execution_count": 34,
   "metadata": {},
   "outputs": [
    {
     "data": {
      "text/plain": [
       "[<matplotlib.lines.Line2D at 0x7facf8b49d50>]"
      ]
     },
     "execution_count": 34,
     "metadata": {},
     "output_type": "execute_result"
    },
    {
     "data": {
      "image/png": "[encoded data removed]",
      "text/plain": [
       "<Figure size 720x720 with 1 Axes>"
      ]
     },
     "metadata": {
      "needs_background": "light"
     },
     "output_type": "display_data"
    }
   ],
   "source": [
    "x1 = torch.linspace(0,14,steps=20)\n",
    "x2 = y_hat(w[0],w[1],w[2],x1)\n",
    "\n",
    "plt.figure(figsize=(10,10))\n",
    "plt.scatter(c3,c4,c = 'r')\n",
    "plt.scatter(c1,c2)\n",
    "plt.plot(x1,x2)"
   ]
  },
  {
   "cell_type": "code",
   "execution_count": null,
   "metadata": {},
   "outputs": [],
   "source": [
    "def Perceptron(x,y,lr):\n",
    "    n,dim = list(x.shape)\n",
    "    x = torch.cat([torch.ones(n).view(-1,1),x],dim=1)\n",
    "#     W = np.random.rand(num_features+1).reshape((-1,1))\n",
    "    w = torch.rand(dim+1,dtype=torch.float,requires_grad=True)\n",
    "\n",
    "    miss_classified = True\n",
    "    while miss_classified:\n",
    "        samples_misclassified = False\n",
    "        predict = x@w\n",
    "        predict[predict>0]=1;predict[predict<0]=-1\n",
    "        if predict.eq(y.view(-1,1)).sum()!=len(y):\n",
    "            miss_classified=True\n",
    "            with torch.no_grad():\n",
    "                w.sub_(lr * w.grad)\n",
    "                w.grad.zero_()\n",
    "    return w"
   ]
  },
  {
   "cell_type": "code",
   "execution_count": null,
   "metadata": {},
   "outputs": [],
   "source": [
    "Perceptron(x,y,1e-2)"
   ]
  },
  {
   "cell_type": "code",
   "execution_count": null,
   "metadata": {},
   "outputs": [],
   "source": [
    "n,dim = list(x.shape)\n",
    "X = torch.cat([torch.ones(n).view(-1,1),x],dim=1)\n",
    "# w = torch.rand(dim+1,dtype=torch.float,requires_grad=True)\n",
    "w = nn.Linear(3,1)\n",
    "\n",
    "miss_classified = True\n",
    "while miss_classified:\n",
    "    samples_misclassified = False\n",
    "    predict = X@w\n",
    "    predict[predict>0]=1;predict[predict<0]=-1\n",
    "    if predict.eq(y.view(-1,1)).sum()!=len(y):\n",
    "        miss_classified=True\n",
    "        with torch.no_grad():\n",
    "            w.sub_(lr * w.grad)\n",
    "            w.grad.zero_()"
   ]
  },
  {
   "cell_type": "code",
   "execution_count": 9,
   "metadata": {},
   "outputs": [
    {
     "data": {
      "text/plain": [
       "tensor([[  8., -11.],\n",
       "        [  7.,   7.],\n",
       "        [ 12., -20.],\n",
       "        [ 14.,  -3.],\n",
       "        [ 12.,   8.],\n",
       "        [  1., -12.],\n",
       "        [ 15.,   5.],\n",
       "        [  7., -10.],\n",
       "        [ 10.,   4.],\n",
       "        [  6.,   2.],\n",
       "        [  8.,  12.],\n",
       "        [  2.,  20.],\n",
       "        [  1., -12.],\n",
       "        [  9.,   8.],\n",
       "        [  3.,   3.],\n",
       "        [  5.,   6.],\n",
       "        [  1.,  11.]])"
      ]
     },
     "execution_count": 9,
     "metadata": {},
     "output_type": "execute_result"
    }
   ],
   "source": [
    "x"
   ]
  },
  {
   "cell_type": "code",
   "execution_count": null,
   "metadata": {},
   "outputs": [],
   "source": []
  },
  {
   "cell_type": "code",
   "execution_count": null,
   "metadata": {},
   "outputs": [],
   "source": []
  },
  {
   "cell_type": "code",
   "execution_count": null,
   "metadata": {},
   "outputs": [],
   "source": []
  },
  {
   "cell_type": "code",
   "execution_count": null,
   "metadata": {},
   "outputs": [],
   "source": []
  },
  {
   "cell_type": "code",
   "execution_count": null,
   "metadata": {},
   "outputs": [],
   "source": [
    "list(x.shape)"
   ]
  },
  {
   "cell_type": "code",
   "execution_count": 67,
   "metadata": {},
   "outputs": [],
   "source": [
    "def activation(x):\n",
    "    x = torch.where(x<0,torch.tensor([-1]),torch.tensor([1]))\n",
    "    return "
   ]
  },
  {
   "cell_type": "code",
   "execution_count": null,
   "metadata": {},
   "outputs": [],
   "source": [
    "activation(net(x))==y.view(-1,1)\n",
    "    "
   ]
  },
  {
   "cell_type": "code",
   "execution_count": null,
   "metadata": {},
   "outputs": [],
   "source": [
    "a = torch.tensor([-1])\n",
    "b = torch.tensor([1])"
   ]
  },
  {
   "cell_type": "code",
   "execution_count": null,
   "metadata": {},
   "outputs": [],
   "source": [
    "torch.where(y>0,a,b)"
   ]
  },
  {
   "cell_type": "code",
   "execution_count": null,
   "metadata": {
    "jupyter": {
     "source_hidden": true
    }
   },
   "outputs": [],
   "source": [
    "y"
   ]
  },
  {
   "cell_type": "code",
   "execution_count": null,
   "metadata": {},
   "outputs": [],
   "source": [
    "a = nn.Parameter(torch.tensor([0,1.,1]));a"
   ]
  },
  {
   "cell_type": "code",
   "execution_count": null,
   "metadata": {},
   "outputs": [],
   "source": [
    "X = torch.cat([torch.ones(17).view(-1,1),x],dim=1);X"
   ]
  },
  {
   "cell_type": "code",
   "execution_count": null,
   "metadata": {},
   "outputs": [],
   "source": [
    "torch.all()"
   ]
  },
  {
   "cell_type": "code",
   "execution_count": null,
   "metadata": {},
   "outputs": [],
   "source": []
  }
 ],
 "metadata": {
  "kernelspec": {
   "display_name": "Python 3",
   "language": "python",
   "name": "python3"
  },
  "language_info": {
   "codemirror_mode": {
    "name": "ipython",
    "version": 3
   },
   "file_extension": ".py",
   "mimetype": "text/x-python",
   "name": "python",
   "nbconvert_exporter": "python",
   "pygments_lexer": "ipython3",
   "version": "3.7.6"
  }
 },
 "nbformat": 4,
 "nbformat_minor": 4
}
