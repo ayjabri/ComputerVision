{
 "cells": [
  {
   "cell_type": "code",
   "execution_count": 1,
   "metadata": {},
   "outputs": [],
   "source": [
    "import numpy as np\n",
    "import time"
   ]
  },
  {
   "cell_type": "code",
   "execution_count": 9,
   "metadata": {},
   "outputs": [
    {
     "data": {
      "text/plain": [
       "''"
      ]
     },
     "execution_count": 9,
     "metadata": {},
     "output_type": "execute_result"
    }
   ],
   "source": [
    "h = list('400000805030000000000700000020000060000080400000010000000603070500200000104000000')\n",
    "grid=np.array(h,dtype=int).reshape(9,9)\n",
    "\n",
    "'''003020600900305001001806400008102900700000008006708200002609500800203009005010300 [0/5]\n",
    "500400070600090520003025400000000067000014800800600000005200000300007000790350000 [0/5]\n",
    "000000000047056000908400061000070090409000100000009080000000007000284600302690005 [0/5]\n",
    "000000000000530041600412005900000160040600002005200000000103200000005089070080006 [0/5]\n",
    "090060000004000006003000942000200000086000200007081694700008000009510000050000073 [0/5]\n",
    "000070360301000000042000008003006400004800002000003100005080007200760000000300856 [0/5]\n",
    "000102900103097000009000070034060800000004500500021030000400000950000000000015307 [0/5]\n",
    "800000090075209080040500100003080600000300070280005000000004000010027030060900020 [0/5]\n",
    "000002008401006007002107903007000000065040009004000560000001000008000006910080070 [0/5]\n",
    "006029000400006002090000600200005104000000080850010263000092040510000000000400800 [0/5]\n",
    "000000000010720000700014826000000000006000900041906030050001000020097680000580009 [0/5]\n",
    "005100026230009000000000000000900800590083000006500107060000001004000008853001600 [0/5]\n",
    "680400000000710009013000000800000300000804090462009000000900037020007108000000026 [0/5]\n",
    "000900007020007061300810002000078009007300020100040000000000050005000003010052078 [0/5]\n",
    "000000060000130907900200031002000000004501703010006004046000020000010000200605008 [0/5]\n",
    "000000000000002891080030507000000000047001085006427003000000000030005070719000204 [0/5]\n",
    "010050000362010005070206400000005070005090600900000000700001008000374900601000000 [0/5]\n",
    "000001086076300502000009300007000060900000800054000207008035900030900000000407000 [0/5]\n",
    "307009000000003060006400001003100094025040803060300002000000006000200900580000040 [0/5]\n",
    "021000050000000708000400020000600035060000000083020600059002086030001000006904200 [0/5]\n",
    "'''\n",
    ";"
   ]
  },
  {
   "cell_type": "code",
   "execution_count": 10,
   "metadata": {},
   "outputs": [],
   "source": [
    "def possible(row,col,n):\n",
    "    global grid\n",
    "    i = row//3 * 3\n",
    "    j = col//3 * 3\n",
    "    for r in range(3):\n",
    "        for c in range(3):\n",
    "            if grid[r+i,c+j]==n: return False\n",
    "    if not (np.any(grid[row,:]==n) or np.any(grid[:,col]==n)):\n",
    "        return True\n",
    "\n",
    "    return False"
   ]
  },
  {
   "cell_type": "code",
   "execution_count": 11,
   "metadata": {},
   "outputs": [
    {
     "data": {
      "text/plain": [
       "False"
      ]
     },
     "execution_count": 11,
     "metadata": {},
     "output_type": "execute_result"
    }
   ],
   "source": [
    "possible(0,0,8)"
   ]
  },
  {
   "cell_type": "code",
   "execution_count": 12,
   "metadata": {},
   "outputs": [],
   "source": [
    "def solve():\n",
    "    global grid\n",
    "    for y in range(9):\n",
    "        for x in range(9):\n",
    "            if grid[y,x] == 0:\n",
    "                for n in range(1,10):\n",
    "                    if possible(y,x,n):\n",
    "                        grid[y,x] = n\n",
    "                        solve()\n",
    "                        grid[y,x] = 0\n",
    "            return\n",
    "    print(grid)"
   ]
  },
  {
   "cell_type": "code",
   "execution_count": 13,
   "metadata": {},
   "outputs": [],
   "source": [
    "solve()"
   ]
  },
  {
   "cell_type": "markdown",
   "metadata": {},
   "source": [
    "## Another method"
   ]
  },
  {
   "cell_type": "code",
   "execution_count": null,
   "metadata": {},
   "outputs": [],
   "source": [
    "grid"
   ]
  },
  {
   "cell_type": "code",
   "execution_count": null,
   "metadata": {},
   "outputs": [],
   "source": [
    "def Possible(row,col,n):\n",
    "    global grid\n",
    "    i = row//3 * 3\n",
    "    j = col//3 * 3\n",
    "    if (n in grid[i:i+3,j:j+3]\n",
    "        or n in grid[row,:] \n",
    "        or n in grid[:,col]):\n",
    "        return False\n",
    "    return True"
   ]
  },
  {
   "cell_type": "code",
   "execution_count": null,
   "metadata": {},
   "outputs": [],
   "source": [
    "Possible(1,0,2)"
   ]
  },
  {
   "cell_type": "code",
   "execution_count": null,
   "metadata": {},
   "outputs": [],
   "source": [
    "def Domains(puzzle):\n",
    "    possible_values = {}\n",
    "    for i in range(9):\n",
    "        for j in range(9):\n",
    "            if puzzle[i,j] != 0:\n",
    "                possible_values[i,j]= [puzzle[i,j].item()]\n",
    "            else:\n",
    "                possible_values[i,j] = list(m for m in range(1,10) if Possible(puzzle,i,j,m))\n",
    "    if not bool(len(['' for x in possible_values.values() if not x])): return possible_values\n",
    "    return False"
   ]
  },
  {
   "cell_type": "code",
   "execution_count": null,
   "metadata": {},
   "outputs": [],
   "source": [
    "possible_values = Domains()"
   ]
  },
  {
   "cell_type": "code",
   "execution_count": null,
   "metadata": {},
   "outputs": [],
   "source": [
    "possible_values = dict(sorted(possible_values.items(),key=lambda x: len(x[1])))"
   ]
  },
  {
   "cell_type": "code",
   "execution_count": null,
   "metadata": {},
   "outputs": [],
   "source": [
    "def solve_test():\n",
    "    global grid,possible_values\n",
    "    if 0 not in grid: return print(grid)\n",
    "    for i,j in possible_values:\n",
    "        if grid[i,j]==0:\n",
    "            for n in possible_values[(i,j)]:\n",
    "                if Possible(i,j,n):\n",
    "#                     possible_values=Domains()\n",
    "                    grid[i,j]=n\n",
    "                    solve_test()\n",
    "                    grid[i,j]=0\n",
    "#                     possible_values=Domains()\n",
    "            return\n",
    "    print(grid)"
   ]
  },
  {
   "cell_type": "code",
   "execution_count": null,
   "metadata": {},
   "outputs": [],
   "source": [
    "start_time = time.process_time()\n",
    "solve_test()\n",
    "time.process_time()-start_time"
   ]
  },
  {
   "cell_type": "code",
   "execution_count": null,
   "metadata": {},
   "outputs": [],
   "source": [
    "\n",
    "\n",
    "grid"
   ]
  },
  {
   "cell_type": "code",
   "execution_count": null,
   "metadata": {},
   "outputs": [],
   "source": [
    "possible_values"
   ]
  },
  {
   "cell_type": "code",
   "execution_count": null,
   "metadata": {},
   "outputs": [],
   "source": [
    "grid"
   ]
  },
  {
   "cell_type": "code",
   "execution_count": null,
   "metadata": {},
   "outputs": [],
   "source": [
    "for i in range(9):\n",
    "    print(len(set(grid[i,:])),len(set(grid[:,i])))"
   ]
  },
  {
   "cell_type": "code",
   "execution_count": null,
   "metadata": {},
   "outputs": [],
   "source": [
    "for row in range(9):\n",
    "    for col in range(9):\n",
    "        i = row//3 * 3\n",
    "        j = col//3 * 3\n",
    "        print(i,j)"
   ]
  },
  {
   "cell_type": "code",
   "execution_count": null,
   "metadata": {},
   "outputs": [],
   "source": [
    "\n",
    "[len(set(grid[row:row+3,col:col+3].reshape(9))) for row in range(0,9,3) for col in range(0,9,3)]"
   ]
  },
  {
   "cell_type": "code",
   "execution_count": null,
   "metadata": {},
   "outputs": [],
   "source": [
    "set(grid[0:3,0:3].reshape(9))"
   ]
  },
  {
   "cell_type": "code",
   "execution_count": null,
   "metadata": {},
   "outputs": [],
   "source": [
    "possible_values"
   ]
  },
  {
   "cell_type": "code",
   "execution_count": null,
   "metadata": {},
   "outputs": [],
   "source": [
    "def AC3(possible_values):\n",
    "    for i,j in possible_values:\n",
    "        if grid[i,j]==0:\n",
    "            for n in possible_values[(i,j)]:\n",
    "                if Possible(i,j,n):\n",
    "                    new_grid=np.array(grid)\n",
    "                    new_grid[i,j]=n\n",
    "                    new_possible_values = Domains()\n",
    "                    print(new_possible_values)\n",
    "            break\n",
    "    \n",
    "    "
   ]
  },
  {
   "cell_type": "code",
   "execution_count": null,
   "metadata": {},
   "outputs": [],
   "source": [
    "grid[0,0]=1;grid"
   ]
  },
  {
   "cell_type": "code",
   "execution_count": null,
   "metadata": {},
   "outputs": [],
   "source": [
    "new_possible_values = Domains()"
   ]
  },
  {
   "cell_type": "code",
   "execution_count": null,
   "metadata": {},
   "outputs": [],
   "source": [
    "len(new_possible_values.values())"
   ]
  },
  {
   "cell_type": "code",
   "execution_count": null,
   "metadata": {},
   "outputs": [],
   "source": [
    "grid1 = np.array(grid)"
   ]
  },
  {
   "cell_type": "code",
   "execution_count": null,
   "metadata": {},
   "outputs": [],
   "source": [
    "grid[0,0]=2;grid1"
   ]
  },
  {
   "cell_type": "code",
   "execution_count": null,
   "metadata": {},
   "outputs": [],
   "source": [
    "possible_values[1,1]=[1]"
   ]
  },
  {
   "cell_type": "code",
   "execution_count": null,
   "metadata": {},
   "outputs": [],
   "source": [
    "bool(len(['' for x in possible_values.values() if not x]))\n"
   ]
  },
  {
   "cell_type": "code",
   "execution_count": null,
   "metadata": {},
   "outputs": [],
   "source": [
    "any_empty_vals"
   ]
  },
  {
   "cell_type": "code",
   "execution_count": null,
   "metadata": {},
   "outputs": [],
   "source": [
    "from collections import Counter"
   ]
  },
  {
   "cell_type": "code",
   "execution_count": null,
   "metadata": {},
   "outputs": [],
   "source": [
    "Counter(grid[0,:]).items()"
   ]
  },
  {
   "cell_type": "code",
   "execution_count": null,
   "metadata": {},
   "outputs": [],
   "source": []
  }
 ],
 "metadata": {
  "kernelspec": {
   "display_name": "Python 3",
   "language": "python",
   "name": "python3"
  },
  "language_info": {
   "codemirror_mode": {
    "name": "ipython",
    "version": 3
   },
   "file_extension": ".py",
   "mimetype": "text/x-python",
   "name": "python",
   "nbconvert_exporter": "python",
   "pygments_lexer": "ipython3",
   "version": "3.7.6"
  }
 },
 "nbformat": 4,
 "nbformat_minor": 4
}
